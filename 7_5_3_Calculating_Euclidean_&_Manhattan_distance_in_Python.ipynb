{
  "nbformat": 4,
  "nbformat_minor": 0,
  "metadata": {
    "colab": {
      "provenance": [],
      "authorship_tag": "ABX9TyOpIF2d1T45mQ7wCD4/RWPN",
      "include_colab_link": true
    },
    "kernelspec": {
      "name": "python3",
      "display_name": "Python 3"
    },
    "language_info": {
      "name": "python"
    }
  },
  "cells": [
    {
      "cell_type": "markdown",
      "metadata": {
        "id": "view-in-github",
        "colab_type": "text"
      },
      "source": [
        "<a href=\"https://colab.research.google.com/github/MkShaon/Machine-Learning-and-Deep-Learning/blob/main/7_5_3_Calculating_Euclidean_%26_Manhattan_distance_in_Python.ipynb\" target=\"_parent\"><img src=\"https://colab.research.google.com/assets/colab-badge.svg\" alt=\"Open In Colab\"/></a>"
      ]
    },
    {
      "cell_type": "markdown",
      "source": [
        "Importing the Dependencies"
      ],
      "metadata": {
        "id": "C9HBoIGcHoTb"
      }
    },
    {
      "cell_type": "code",
      "execution_count": 1,
      "metadata": {
        "id": "JjQObsXnHVb_"
      },
      "outputs": [],
      "source": [
        "import numpy as np"
      ]
    },
    {
      "cell_type": "markdown",
      "source": [
        "Euclidean Distance\n",
        "    \n",
        "    d = sqrt((x2-x1) + (y2-y1))\n",
        "\n",
        "\n",
        "Manhattan Distance\n",
        "\n",
        "\n",
        "    d = absolute((x2-x1) + (y2-y1))"
      ],
      "metadata": {
        "id": "MCs_NnyKHwbQ"
      }
    },
    {
      "cell_type": "code",
      "source": [
        "# consider two points with 2 dimensions\n",
        "\n",
        "p1 = (1,1) #x1, y1 value\n",
        "p2 = (2,2) # x2, y2 value"
      ],
      "metadata": {
        "id": "gudNkqPlHvGQ"
      },
      "execution_count": 3,
      "outputs": []
    },
    {
      "cell_type": "code",
      "source": [
        "# calculating Euclidean distance\n",
        "dist = (p1[0] - p2[0])**2 + (p1[1] - p2[1])**2\n",
        "\n",
        "euclidean_dist = np.sqrt(dist)\n",
        "print(euclidean_dist)"
      ],
      "metadata": {
        "colab": {
          "base_uri": "https://localhost:8080/"
        },
        "id": "t67LNaWjIoUo",
        "outputId": "43d145f2-8557-412d-b4e5-2f8d6cf3d29c"
      },
      "execution_count": 4,
      "outputs": [
        {
          "output_type": "stream",
          "name": "stdout",
          "text": [
            "1.4142135623730951\n"
          ]
        }
      ]
    },
    {
      "cell_type": "code",
      "source": [
        "# consider two points with 3 dimensions\n",
        "\n",
        "p1 = (1,1,1)\n",
        "p2 = (2,2,2)\n",
        "\n",
        "# calculating Euclidean distance\n",
        "dist = (p1[0] - p2[0])**2 + (p1[1] - p2[1])**2 + (p1[2] - p2[2])**2\n",
        "\n",
        "euclidean_dist = np.sqrt(dist)\n",
        "print(euclidean_dist)"
      ],
      "metadata": {
        "colab": {
          "base_uri": "https://localhost:8080/"
        },
        "id": "_Nd1uhcDJKha",
        "outputId": "d41fd103-d7dc-4fe7-871d-af2e94f4751b"
      },
      "execution_count": 5,
      "outputs": [
        {
          "output_type": "stream",
          "name": "stdout",
          "text": [
            "1.7320508075688772\n"
          ]
        }
      ]
    },
    {
      "cell_type": "code",
      "source": [
        "# consider two points with 4 dimensions\n",
        "\n",
        "p1 = (1,1,1,1)\n",
        "p2 = (2,2,2,2)\n",
        "\n",
        "dist = 0\n",
        "\n",
        "for i in range(len(p1)):\n",
        "  dist = dist + (p1[i] - p2[i])**2\n",
        "euclidean_dist2 = np.sqrt(dist)\n",
        "print(euclidean_dist2)"
      ],
      "metadata": {
        "colab": {
          "base_uri": "https://localhost:8080/"
        },
        "id": "nT6aqGmdJ8xK",
        "outputId": "7ffbbf8c-d11f-44de-ebe1-58e8f55bb0aa"
      },
      "execution_count": 6,
      "outputs": [
        {
          "output_type": "stream",
          "name": "stdout",
          "text": [
            "2.0\n"
          ]
        }
      ]
    },
    {
      "cell_type": "markdown",
      "source": [
        "Creating a Function for calculating Euclidean Distance"
      ],
      "metadata": {
        "id": "Be49j704LGeI"
      }
    },
    {
      "cell_type": "code",
      "source": [
        "def get_euclidean_distance(p1, p2):\n",
        "\n",
        "  dist = 0\n",
        "\n",
        "  for i in range(len(p1)):\n",
        "    dist = dist + (p1[i] - p2[i])**2\n",
        "\n",
        "  euclidean_dist2 = np.sqrt(dist)\n",
        "  print(euclidean_dist2)"
      ],
      "metadata": {
        "id": "BlkaIy3vLBcx"
      },
      "execution_count": 7,
      "outputs": []
    },
    {
      "cell_type": "code",
      "source": [
        "get_euclidean_distance((1,1,1,1), (2,2,2,2)) # Data points dimesions should be same for both datapoints"
      ],
      "metadata": {
        "colab": {
          "base_uri": "https://localhost:8080/"
        },
        "id": "Td2RKn8JLunu",
        "outputId": "3c1a7246-8deb-456c-ea65-b2db9bc351b1"
      },
      "execution_count": 9,
      "outputs": [
        {
          "output_type": "stream",
          "name": "stdout",
          "text": [
            "2.0\n"
          ]
        }
      ]
    },
    {
      "cell_type": "markdown",
      "source": [
        "Manhattan Distance Function"
      ],
      "metadata": {
        "id": "h5DA6IpWMEh1"
      }
    },
    {
      "cell_type": "code",
      "source": [
        "def get_manhattan_distance(p1, p2):\n",
        "\n",
        "  dist = 0\n",
        "\n",
        "  for i in range(len(p1)):\n",
        "    dist = dist + abs(p1[i] - p2[i])\n",
        "\n",
        "  manhattan_distance = dist\n",
        "  print(manhattan_distance)"
      ],
      "metadata": {
        "id": "rvOVe1RdMDnN"
      },
      "execution_count": 10,
      "outputs": []
    },
    {
      "cell_type": "code",
      "source": [
        "get_manhattan_distance((1,1,1,1), (2,2,2,2))"
      ],
      "metadata": {
        "colab": {
          "base_uri": "https://localhost:8080/"
        },
        "id": "_cAAHE9_L2Vg",
        "outputId": "edb29734-379c-4a9b-84fb-61da156223f8"
      },
      "execution_count": 11,
      "outputs": [
        {
          "output_type": "stream",
          "name": "stdout",
          "text": [
            "4\n"
          ]
        }
      ]
    },
    {
      "cell_type": "markdown",
      "source": [
        "Calculating distance between two points"
      ],
      "metadata": {
        "id": "WurDvmeOOYHn"
      }
    },
    {
      "cell_type": "code",
      "source": [
        "# distance between two similiar data points\n",
        "print(get_euclidean_distance((63,1,3,145,233,1,0,150,0,2.3,0,0,1),(37,1,2,130,250,0,1,187,0,3.5,0,0,2)))\n",
        "print(get_manhattan_distance((63,1,3,145,233,1,0,150,0,2.3,0,0,1),(37,1,2,130,250,0,1,187,0,3.5,0,0,2)))"
      ],
      "metadata": {
        "colab": {
          "base_uri": "https://localhost:8080/"
        },
        "id": "eNpu28-uNjvk",
        "outputId": "3b74be9d-48af-489f-c492-c765123cead8"
      },
      "execution_count": 12,
      "outputs": [
        {
          "output_type": "stream",
          "name": "stdout",
          "text": [
            "50.640300157088326\n",
            "None\n",
            "100.2\n",
            "None\n"
          ]
        }
      ]
    },
    {
      "cell_type": "code",
      "source": [
        "# distance between two dis-similiar data points\n",
        "print(get_euclidean_distance((63,1,3,145,233,1,0,150,0,2.3,0,0,1),(67,1,0,160,286,0,0,108,1,1.5,1,3,2)))\n",
        "print(get_manhattan_distance((63,1,3,145,233,1,0,150,0,2.3,0,0,1),(67,1,0,160,286,0,0,108,1,1.5,1,3,2)))"
      ],
      "metadata": {
        "colab": {
          "base_uri": "https://localhost:8080/"
        },
        "id": "zr7UYKjrUf8M",
        "outputId": "e00aeed3-8b27-4abb-d627-d9af5a05ee2b"
      },
      "execution_count": 14,
      "outputs": [
        {
          "output_type": "stream",
          "name": "stdout",
          "text": [
            "69.54595602908914\n",
            "None\n",
            "124.8\n",
            "None\n"
          ]
        }
      ]
    },
    {
      "cell_type": "markdown",
      "source": [
        "One thing to remember, if the distance between two data point is very large\n",
        "that means two data points are Dis-similiar.\n",
        "Whereas the distance is smaller that means two data points are close to each other. It basically means two data points are similiar to each other."
      ],
      "metadata": {
        "id": "9Ji32XRlh9Wr"
      }
    },
    {
      "cell_type": "code",
      "source": [],
      "metadata": {
        "id": "48eKxCHkU212"
      },
      "execution_count": null,
      "outputs": []
    }
  ]
}