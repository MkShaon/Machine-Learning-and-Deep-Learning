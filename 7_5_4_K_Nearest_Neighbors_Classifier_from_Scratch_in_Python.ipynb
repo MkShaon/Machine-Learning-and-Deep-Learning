{
  "nbformat": 4,
  "nbformat_minor": 0,
  "metadata": {
    "colab": {
      "provenance": [],
      "authorship_tag": "ABX9TyNgLw1/Q25xxTVEIUBFqij9",
      "include_colab_link": true
    },
    "kernelspec": {
      "name": "python3",
      "display_name": "Python 3"
    },
    "language_info": {
      "name": "python"
    }
  },
  "cells": [
    {
      "cell_type": "markdown",
      "metadata": {
        "id": "view-in-github",
        "colab_type": "text"
      },
      "source": [
        "<a href=\"https://colab.research.google.com/github/MkShaon/Machine-Learning-and-Deep-Learning/blob/main/7_5_4_K_Nearest_Neighbors_Classifier_from_Scratch_in_Python.ipynb\" target=\"_parent\"><img src=\"https://colab.research.google.com/assets/colab-badge.svg\" alt=\"Open In Colab\"/></a>"
      ]
    },
    {
      "cell_type": "markdown",
      "source": [
        "Importing the dependencies"
      ],
      "metadata": {
        "id": "TklNs178t835"
      }
    },
    {
      "cell_type": "code",
      "execution_count": null,
      "metadata": {
        "id": "MSmI95ib_IRs"
      },
      "outputs": [],
      "source": [
        "import numpy as np\n",
        "import statistics"
      ]
    },
    {
      "cell_type": "markdown",
      "source": [
        "K-Nearest Neighbors Classifiers"
      ],
      "metadata": {
        "id": "lAoVReC1uHIG"
      }
    },
    {
      "cell_type": "code",
      "source": [
        "class KNN_Classifier():\n",
        "  #initiating the parammeters\n",
        "  def __init__(self, distance_metric):\n",
        "\n",
        "    self.get_distance_metric = distance_metric\n",
        "\n",
        "  # getting the distance metric\n",
        "  def get_distance_metric(self, training_data_point, test_data_point):\n",
        "    if(self.get_distance_metric == 'euclidean'):\n",
        "      dist = 0\n",
        "      for i in range(len(training_data_point)-1):\n",
        "        dist = dist + (training_data_point[i] - test_data_point[i])**2\n",
        "\n",
        "      euclidean_dist = np.sqrt(dist)\n",
        "      return euclidean_dist\n",
        "\n",
        "    elif(slef.distance_metric == 'manhattan'):\n",
        "\n",
        "      dist = 0\n",
        "      for i in range(len(training_data_point) -1):\n",
        "        dist = dist + abs(training_data_point[i] - test_data_point[i])\n",
        "\n",
        "      manhattan_dist = dist\n",
        "      return manhattan_dist\n",
        "\n",
        "\n",
        "\n",
        "  # getting the nearest neighbors\n",
        "  def nearest_neighbors(self, X_train, test_data, k):\n",
        "\n",
        "    distance_list = []\n",
        "\n",
        "    for training_data in X_train:\n",
        "      distance = self.get_distance_metric(training_data, test_data)\n",
        "      distance_list.append(training_data, distance)\n",
        "\n",
        "    distance_list.sort(key=lambda x:x[1])\n",
        "\n",
        "\n",
        "\n",
        "    neighbors_list = []\n",
        "\n",
        "    for j in range(k):\n",
        "      neighbors_list.append(distance_list[j][0])\n",
        "\n",
        "    return neighbors_list\n",
        "\n",
        "\n",
        "\n",
        "  # predict the class of new data point\n",
        "  def predict(self, X_train, test_data, k):\n",
        "    neighbors = self.nearest_neighbors(X_train, test_data, k)\n",
        "\n",
        "    for data in neighbors:\n",
        "      label = []\n",
        "      label.append(data[-1])\n",
        "\n",
        "    predicted_class = statistics.mode(label)\n",
        "\n",
        "    return predicted_class\n",
        "\n",
        "\n",
        "\n",
        "\n"
      ],
      "metadata": {
        "id": "ozBpNcapuFzz",
        "colab": {
          "base_uri": "https://localhost:8080/",
          "height": 141
        },
        "outputId": "f5b1c7a5-4c34-4214-fe51-699a20336531"
      },
      "execution_count": null,
      "outputs": [
        {
          "output_type": "error",
          "ename": "SyntaxError",
          "evalue": "ignored",
          "traceback": [
            "\u001b[0;36m  File \u001b[0;32m\"<ipython-input-4-6a1db1196d3d>\"\u001b[0;36m, line \u001b[0;32m33\u001b[0m\n\u001b[0;31m    for training_data in\u001b[0m\n\u001b[0m                         ^\u001b[0m\n\u001b[0;31mSyntaxError\u001b[0m\u001b[0;31m:\u001b[0m invalid syntax\n"
          ]
        }
      ]
    },
    {
      "cell_type": "code",
      "source": [
        "classifier = KNN_Classifier(distance_metric='euclidean')\n",
        "classifier.predict(X, X_test, k=5)\n"
      ],
      "metadata": {
        "id": "ZcwrS_iJ2tcl"
      },
      "execution_count": null,
      "outputs": []
    },
    {
      "cell_type": "code",
      "source": [
        "classifier = KNN_Classifier(distance_metric='manhattan')"
      ],
      "metadata": {
        "id": "_DaTMfdb4lts"
      },
      "execution_count": null,
      "outputs": []
    }
  ]
}