{
  "nbformat": 4,
  "nbformat_minor": 0,
  "metadata": {
    "colab": {
      "provenance": [],
      "authorship_tag": "ABX9TyP6UNyuoNcHw3Pj0xipxGNJ",
      "include_colab_link": true
    },
    "kernelspec": {
      "name": "python3",
      "display_name": "Python 3"
    },
    "language_info": {
      "name": "python"
    }
  },
  "cells": [
    {
      "cell_type": "markdown",
      "metadata": {
        "id": "view-in-github",
        "colab_type": "text"
      },
      "source": [
        "<a href=\"https://colab.research.google.com/github/MkShaon/Machine-Learning-and-Deep-Learning/blob/main/4_8_Feature_extraction_of_Text_Data_using_Tf_idf_Vectorizer.ipynb\" target=\"_parent\"><img src=\"https://colab.research.google.com/assets/colab-badge.svg\" alt=\"Open In Colab\"/></a>"
      ]
    },
    {
      "cell_type": "markdown",
      "source": [
        "Full Concept and code will be clear after doing the Fake News project"
      ],
      "metadata": {
        "id": "VEFPEMyuBWWu"
      }
    },
    {
      "cell_type": "markdown",
      "source": [
        "About the Dataset:\n",
        "\n",
        "1.   id: unique id for a news article\n",
        "\n",
        "2.   title: the title of a news article\n",
        "\n",
        "3.   author: author of the news article\n",
        "\n",
        "4.   text: the text of the article, could be incomplete\n",
        "\n",
        "5.   label:  a label that marks wheter the news article is real or fake\n",
        "\n",
        "\n"
      ],
      "metadata": {
        "id": "8nfJeX8M9cyL"
      }
    },
    {
      "cell_type": "markdown",
      "source": [
        "      1---> Fake news\n",
        "      2---> Real news"
      ],
      "metadata": {
        "id": "zsNIEn-i-7hS"
      }
    },
    {
      "cell_type": "code",
      "source": [
        "import numpy as np\n",
        "import pandas as pd\n",
        "import re\n",
        "from nltk.corpus import stopwords\n",
        "from nltk.stem.porter import PorterStemmer\n",
        "from sklearn.feature_extraction.text  import TfidfVectorizer"
      ],
      "metadata": {
        "id": "8_EWyKd4-2Hm"
      },
      "execution_count": null,
      "outputs": []
    },
    {
      "cell_type": "markdown",
      "source": [],
      "metadata": {
        "id": "ebRp234kBU3f"
      }
    },
    {
      "cell_type": "code",
      "execution_count": null,
      "metadata": {
        "id": "bXirx5T92eAq"
      },
      "outputs": [],
      "source": []
    }
  ]
}