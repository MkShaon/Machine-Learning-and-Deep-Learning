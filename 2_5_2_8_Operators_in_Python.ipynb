{
  "nbformat": 4,
  "nbformat_minor": 0,
  "metadata": {
    "colab": {
      "provenance": [],
      "authorship_tag": "ABX9TyNz3HCLJNJzfBaqcfrsOkUN",
      "include_colab_link": true
    },
    "kernelspec": {
      "name": "python3",
      "display_name": "Python 3"
    },
    "language_info": {
      "name": "python"
    }
  },
  "cells": [
    {
      "cell_type": "markdown",
      "metadata": {
        "id": "view-in-github",
        "colab_type": "text"
      },
      "source": [
        "<a href=\"https://colab.research.google.com/github/MkShaon/Machine-Learning-and-Deep-Learning/blob/main/2_5_2_8_Operators_in_Python.ipynb\" target=\"_parent\"><img src=\"https://colab.research.google.com/assets/colab-badge.svg\" alt=\"Open In Colab\"/></a>"
      ]
    },
    {
      "cell_type": "markdown",
      "source": [],
      "metadata": {
        "id": "fjjdpZBg_uCW"
      }
    },
    {
      "cell_type": "markdown",
      "source": [
        "# OPERATORS\n",
        "Operators in Python:\n",
        "1. Arithmetic Operators\n",
        "2. Assignment Operators\n",
        "3. Comparison Operators\n",
        "4. Logical Operators\n",
        "5. Identity Operators\n",
        "6. Membership Operators\n",
        "\n"
      ],
      "metadata": {
        "id": "4OsIrh9p_wON"
      }
    },
    {
      "cell_type": "markdown",
      "source": [
        "1. Artihmetic operators"
      ],
      "metadata": {
        "id": "E2BIyMvbASs8"
      }
    },
    {
      "cell_type": "code",
      "source": [
        "num_1 = 20\n",
        "num_2 = 10\n",
        "# addition\n",
        "sum = num_1 + num_2\n",
        "print(\"sum = \", sum)\n",
        "\n",
        "#Subtraction\n",
        "difference = num_1 - num_2\n",
        "print(\"Subtracted value = \", difference)\n",
        "\n",
        "\n",
        "# multiplication\n",
        "product = num_1 * num_2\n",
        "print(\"Product = \", product)\n",
        "\n",
        "#division\n",
        "div = num_1 / num_2\n",
        "print(\"Divison = \", div)\n",
        "\n",
        "# exponential\n",
        "exp = num_1**num_2 #20^10\n",
        "print(\"Exponential = \", exp)\n",
        "\n",
        "#Modulus\n",
        "mod = num_1%num_2\n",
        "print(\"Modulus/Remainder =\", mod)"
      ],
      "metadata": {
        "colab": {
          "base_uri": "https://localhost:8080/"
        },
        "id": "XJLx8jGyAQfq",
        "outputId": "c3243891-2715-47d8-86da-4c41eaa0a243"
      },
      "execution_count": null,
      "outputs": [
        {
          "output_type": "stream",
          "name": "stdout",
          "text": [
            "sum =  30\n",
            "Subtracted value =  10\n",
            "Product =  200\n",
            "Divison =  2.0\n",
            "Exponential =  10240000000000\n",
            "Modulus/Remainder = 0\n"
          ]
        }
      ]
    },
    {
      "cell_type": "markdown",
      "source": [
        "2. Assignment Operators\n",
        "1. +=\n",
        "2. -=\n",
        "3. *=\n",
        "4. **=\n",
        "5. /=\n",
        "6. %="
      ],
      "metadata": {
        "id": "Btm5oc-WE5D9"
      }
    },
    {
      "cell_type": "code",
      "source": [
        "a = 5\n",
        "print(a)"
      ],
      "metadata": {
        "colab": {
          "base_uri": "https://localhost:8080/"
        },
        "id": "0l6QQIpbCoeQ",
        "outputId": "2bafcd8e-ae63-4cad-d025-2068d2b431a9"
      },
      "execution_count": null,
      "outputs": [
        {
          "output_type": "stream",
          "name": "stdout",
          "text": [
            "5\n"
          ]
        }
      ]
    },
    {
      "cell_type": "code",
      "source": [
        "b = 5\n",
        "b += 5 # b = b+5\n",
        "print(b)"
      ],
      "metadata": {
        "colab": {
          "base_uri": "https://localhost:8080/"
        },
        "id": "9lXDM15oFGXp",
        "outputId": "641c76c4-a519-4571-9b0b-474d4710023c"
      },
      "execution_count": null,
      "outputs": [
        {
          "output_type": "stream",
          "name": "stdout",
          "text": [
            "10\n"
          ]
        }
      ]
    },
    {
      "cell_type": "code",
      "source": [
        "c = 5\n",
        "c -= 5 # c = c-5\n",
        "print(c)"
      ],
      "metadata": {
        "colab": {
          "base_uri": "https://localhost:8080/"
        },
        "id": "WUnplUKZFYPd",
        "outputId": "e9f41ec6-084b-43aa-e486-5423416506ef"
      },
      "execution_count": null,
      "outputs": [
        {
          "output_type": "stream",
          "name": "stdout",
          "text": [
            "0\n"
          ]
        }
      ]
    },
    {
      "cell_type": "markdown",
      "source": [
        "3. Comparison Operators"
      ],
      "metadata": {
        "id": "w0NsayFsGFVQ"
      }
    },
    {
      "cell_type": "code",
      "source": [
        "d = 5\n",
        "e = 10\n",
        "print(d == e)\n",
        "print(d != e)\n",
        "print(d > e)\n",
        "print(d<e)\n",
        "print(d<=e)\n",
        "print(d>=e)"
      ],
      "metadata": {
        "colab": {
          "base_uri": "https://localhost:8080/"
        },
        "id": "myZBoI4RGIge",
        "outputId": "b3f5442b-28a7-408b-9829-16d99e1ce526"
      },
      "execution_count": null,
      "outputs": [
        {
          "output_type": "stream",
          "name": "stdout",
          "text": [
            "False\n",
            "True\n",
            "False\n",
            "True\n",
            "True\n",
            "False\n"
          ]
        }
      ]
    },
    {
      "cell_type": "markdown",
      "source": [
        "4. Logical Operators\n",
        "\n",
        "*  AND GATE\n",
        "*  OR GATE\n",
        "*  NOT GATE\n",
        "\n",
        "\n",
        "\n"
      ],
      "metadata": {
        "id": "Naev9vWTGxRO"
      }
    },
    {
      "cell_type": "code",
      "source": [
        "f = 10\n",
        "print(f>20 and f>5)\n",
        "print(f>5 and f<11)\n",
        "print(f>20 or f>5)\n",
        "print(f>5 or f<11)\n",
        "print(not(f>8 and f>5))"
      ],
      "metadata": {
        "colab": {
          "base_uri": "https://localhost:8080/"
        },
        "id": "K_290Ni9GZGC",
        "outputId": "b7c56ac0-9922-4a96-9649-eea0778b2077"
      },
      "execution_count": null,
      "outputs": [
        {
          "output_type": "stream",
          "name": "stdout",
          "text": [
            "False\n",
            "True\n",
            "True\n",
            "True\n",
            "False\n"
          ]
        }
      ]
    },
    {
      "cell_type": "markdown",
      "source": [
        "5. Identity operator"
      ],
      "metadata": {
        "id": "v2CNJPIwI2_H"
      }
    },
    {
      "cell_type": "code",
      "source": [
        "x = 5\n",
        "y = 4\n",
        "\n",
        "print( x is y)\n",
        "print(x is not y)"
      ],
      "metadata": {
        "colab": {
          "base_uri": "https://localhost:8080/"
        },
        "id": "URebfnCUI5Zt",
        "outputId": "f66345d6-18b3-4cbc-ae8a-f0f7b13f7a52"
      },
      "execution_count": null,
      "outputs": [
        {
          "output_type": "stream",
          "name": "stdout",
          "text": [
            "False\n",
            "True\n"
          ]
        }
      ]
    },
    {
      "cell_type": "markdown",
      "source": [
        "6. Membership Operator:\n",
        "*   in\n",
        "*   not in"
      ],
      "metadata": {
        "id": "V5WZjNBqJQ_l"
      }
    },
    {
      "cell_type": "code",
      "source": [
        "\n",
        "m = 5\n",
        "n = 6\n",
        "o = [3,4,5,6,7,8,9]\n",
        "\n",
        "print(m in o)\n",
        "print (n in o)\n",
        "print(m&n in o )\n",
        "print(m not in o)"
      ],
      "metadata": {
        "colab": {
          "base_uri": "https://localhost:8080/"
        },
        "id": "4NShtTcFJTVM",
        "outputId": "1b986c40-626e-47bc-97fb-aa78c95935bd"
      },
      "execution_count": null,
      "outputs": [
        {
          "output_type": "stream",
          "name": "stdout",
          "text": [
            "True\n",
            "True\n",
            "True\n",
            "False\n"
          ]
        }
      ]
    },
    {
      "cell_type": "markdown",
      "source": [
        "# Simple if-else statement"
      ],
      "metadata": {
        "id": "XV3fdRAlXwK8"
      }
    },
    {
      "cell_type": "code",
      "source": [
        "a = 30\n",
        "b = 30\n",
        "if(a>b):\n",
        "  print(\"a is greatest number\")\n",
        "else:\n",
        "    print(\"b is greatest number\")"
      ],
      "metadata": {
        "colab": {
          "base_uri": "https://localhost:8080/"
        },
        "id": "urbZR8BAXtOD",
        "outputId": "826d7e87-8284-4555-af84-065a9034ffed"
      },
      "execution_count": null,
      "outputs": [
        {
          "output_type": "stream",
          "name": "stdout",
          "text": [
            "b is greatest number\n"
          ]
        }
      ]
    },
    {
      "cell_type": "code",
      "source": [
        "a = int(input(\"Enter the first number: \"))\n",
        "b = int(input(\"Enter the second number: \"))\n",
        "if(a>b):\n",
        "  print(\"First number is greater. The greater number is: \", a )\n",
        "else:\n",
        "  print(\"Second number is greater. The greater number is: \", b)"
      ],
      "metadata": {
        "colab": {
          "base_uri": "https://localhost:8080/"
        },
        "id": "-lhSDT_iYwJ3",
        "outputId": "acef699e-fe3a-40bc-e05d-cec4325e30e7"
      },
      "execution_count": null,
      "outputs": [
        {
          "output_type": "stream",
          "name": "stdout",
          "text": [
            "Enter the first number: 500\n",
            "Enter the second number: 499\n",
            "First number is greater. The greater number is:  500\n"
          ]
        }
      ]
    },
    {
      "cell_type": "code",
      "source": [
        "#if(): .... elif():.......else():\n",
        "a = 500\n",
        "b = 600\n",
        "c = 1000\n",
        "if(a>b>c):\n",
        "  print(\"a is the largest number. a= \",a)\n",
        "elif(b>a>c):\n",
        "  print(\"b is the largest number. b= \",b)\n",
        "else:\n",
        "  print(\"c is the largest number. c= \",c)"
      ],
      "metadata": {
        "colab": {
          "base_uri": "https://localhost:8080/"
        },
        "id": "oOMW4vtuawmz",
        "outputId": "4279d877-485d-4f58-b49f-0eaa965e9c3a"
      },
      "execution_count": null,
      "outputs": [
        {
          "output_type": "stream",
          "name": "stdout",
          "text": [
            "c is the largest number. c=  1000\n"
          ]
        }
      ]
    },
    {
      "cell_type": "code",
      "source": [
        "# Nested if-else\n",
        "a = 100\n",
        "b = 200\n",
        "c = 150\n",
        "\n",
        "if(a>b):\n",
        "  if(a>c):\n",
        "    print(\"a is the largest number.\")\n",
        "  else:\n",
        "    print(\"c is the largest number.\")\n",
        "else:\n",
        "  print(\"b is the largest number.\")"
      ],
      "metadata": {
        "colab": {
          "base_uri": "https://localhost:8080/"
        },
        "id": "NCJKZNd3eHOB",
        "outputId": "f3909f48-52a0-4ac1-ecad-f569a1b01606"
      },
      "execution_count": null,
      "outputs": [
        {
          "output_type": "stream",
          "name": "stdout",
          "text": [
            "b is the largest number.\n"
          ]
        }
      ]
    },
    {
      "cell_type": "markdown",
      "source": [
        "# Loops\n",
        " 1. for loop\n",
        " 2. while loop"
      ],
      "metadata": {
        "id": "gUIdzDfhhM6v"
      }
    },
    {
      "cell_type": "code",
      "source": [
        "# for loop\n",
        "for i in range(3):\n",
        "  laptop_price = int(input(\"Enter the prices of the notebooks: \"))"
      ],
      "metadata": {
        "colab": {
          "base_uri": "https://localhost:8080/"
        },
        "id": "d57zYgOChVXB",
        "outputId": "16d40e5b-8af1-41a8-8ce7-5058ce6dabd7"
      },
      "execution_count": null,
      "outputs": [
        {
          "name": "stdout",
          "output_type": "stream",
          "text": [
            "Enter the prices of the notebooks: 5000\n",
            "Enter the prices of the notebooks: 4000\n",
            "Enter the prices of the notebooks: 2000\n"
          ]
        }
      ]
    },
    {
      "cell_type": "code",
      "source": [
        "number= [10,20,30,40]\n",
        "print(number[0])\n",
        "print(number[1])\n",
        "print(number[2])\n",
        "print(number[3])"
      ],
      "metadata": {
        "colab": {
          "base_uri": "https://localhost:8080/"
        },
        "id": "KIpAG_8SljFm",
        "outputId": "4676f3a7-f801-409d-da1d-96dbe518100d"
      },
      "execution_count": null,
      "outputs": [
        {
          "output_type": "stream",
          "name": "stdout",
          "text": [
            "10\n",
            "20\n",
            "30\n",
            "40\n"
          ]
        }
      ]
    },
    {
      "cell_type": "code",
      "source": [
        "numbers = [1,5,7,8,9,20]\n",
        "for i in numbers:\n",
        "  print(i)"
      ],
      "metadata": {
        "colab": {
          "base_uri": "https://localhost:8080/"
        },
        "id": "dlWLvegjmBGz",
        "outputId": "e8018d92-043e-4617-e862-c0d8eda85bc1"
      },
      "execution_count": null,
      "outputs": [
        {
          "output_type": "stream",
          "name": "stdout",
          "text": [
            "1\n",
            "5\n",
            "7\n",
            "8\n",
            "9\n",
            "20\n"
          ]
        }
      ]
    },
    {
      "cell_type": "code",
      "source": [
        "#While loop\n",
        "i = 0\n",
        "while i<10:\n",
        "  print(i)\n",
        "  i += 1 # i = i+1\n"
      ],
      "metadata": {
        "colab": {
          "base_uri": "https://localhost:8080/"
        },
        "id": "CXzVICplmcJb",
        "outputId": "57797bec-e465-4fed-ad1d-414ca756c96d"
      },
      "execution_count": null,
      "outputs": [
        {
          "output_type": "stream",
          "name": "stdout",
          "text": [
            "0\n",
            "1\n",
            "2\n",
            "3\n",
            "4\n",
            "5\n",
            "6\n",
            "7\n",
            "8\n",
            "9\n"
          ]
        }
      ]
    },
    {
      "cell_type": "markdown",
      "source": [
        "#Functions\n",
        "Function is a block of code that can be resued in a program"
      ],
      "metadata": {
        "id": "60mYelYDRa-e"
      }
    },
    {
      "cell_type": "code",
      "source": [
        "# Factorial of a number\n",
        "#Factorial of 5 = 5 * 4 * 3 * 2 * 1 = 120\n",
        "number = int(input(\"Enter a number to find its factorial: \"))\n",
        "factorial = 1\n",
        "if number == 0:\n",
        "  print(\"The factorial of 0 = 1\")\n",
        "else:\n",
        "  for i in range(1, number+1): # range(1, 6) --> 1,2,3,4,5\n",
        "    factorial = factorial*i\n",
        "\n",
        "print(\"The factorial of\", number, \"is\", factorial)\n"
      ],
      "metadata": {
        "colab": {
          "base_uri": "https://localhost:8080/"
        },
        "id": "AJ0m8Y82RlfL",
        "outputId": "f69fff11-a594-4e45-d37a-a2cd233cf421"
      },
      "execution_count": null,
      "outputs": [
        {
          "output_type": "stream",
          "name": "stdout",
          "text": [
            "Enter a number to find its factorial: 10\n",
            "The factorial of 10 is 3628800\n"
          ]
        }
      ]
    },
    {
      "cell_type": "code",
      "source": [
        "def factorial_function(num):\n",
        "  factorial = 1\n",
        "  if num == 0:\n",
        "    return factorial\n",
        "\n",
        "  else:\n",
        "    for i in range(1, num+1):\n",
        "      factorial = factorial * i\n",
        "    return factorial"
      ],
      "metadata": {
        "id": "lS3rqXD0Uy44"
      },
      "execution_count": null,
      "outputs": []
    },
    {
      "cell_type": "code",
      "source": [
        "print(factorial_function(int(input(\"Enter any number to find factorial: \"))))"
      ],
      "metadata": {
        "colab": {
          "base_uri": "https://localhost:8080/"
        },
        "id": "1zDKh2vdWNZb",
        "outputId": "65fdcdae-b711-43b4-9d70-efa77146169d"
      },
      "execution_count": null,
      "outputs": [
        {
          "output_type": "stream",
          "name": "stdout",
          "text": [
            "Enter any number to find factorial: 10\n",
            "3628800\n"
          ]
        }
      ]
    }
  ]
}